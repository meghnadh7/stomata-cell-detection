{
  "cells": [
    {
      "cell_type": "markdown",
      "metadata": {
        "id": "view-in-github",
        "colab_type": "text"
      },
      "source": [
        "<a href=\"https://colab.research.google.com/github/meghnadh7/stomata-cell-detection/blob/main/telegram_integration_YoloV8.ipynb\" target=\"_parent\"><img src=\"https://colab.research.google.com/assets/colab-badge.svg\" alt=\"Open In Colab\"/></a>"
      ]
    },
    {
      "cell_type": "code",
      "execution_count": null,
      "metadata": {
        "colab": {
          "base_uri": "https://localhost:8080/"
        },
        "id": "qjbSMlZQHbUK",
        "outputId": "33557b48-b426-4d6a-9302-9f95dabb4289"
      },
      "outputs": [
        {
          "output_type": "stream",
          "name": "stderr",
          "text": [
            "Ultralytics YOLOv8.0.196 🚀 Python-3.10.12 torch-2.2.1+cu121 CPU (Intel Xeon 2.20GHz)\n",
            "Setup complete ✅ (2 CPUs, 12.7 GB RAM, 28.9/107.7 GB disk)\n"
          ]
        }
      ],
      "source": [
        "# Pip install method (recommended)\n",
        "\n",
        "!pip install ultralytics==8.0.196\n",
        "\n",
        "from IPython import display\n",
        "display.clear_output()\n",
        "\n",
        "import ultralytics\n",
        "ultralytics.checks()\n",
        "from ultralytics import YOLO"
      ]
    },
    {
      "cell_type": "code",
      "execution_count": null,
      "metadata": {
        "id": "AveDO98N5R2W",
        "colab": {
          "base_uri": "https://localhost:8080/"
        },
        "outputId": "0ccdef76-5241-4a66-c534-f147e759c4c4"
      },
      "outputs": [
        {
          "output_type": "stream",
          "name": "stdout",
          "text": [
            "Collecting telebot\n",
            "  Downloading telebot-0.0.5-py3-none-any.whl (4.8 kB)\n",
            "Collecting pyTelegramBotAPI (from telebot)\n",
            "  Downloading pytelegrambotapi-4.16.1-py3-none-any.whl (232 kB)\n",
            "\u001b[2K     \u001b[90m━━━━━━━━━━━━━━━━━━━━━━━━━━━━━━━━━━━━━━━━\u001b[0m \u001b[32m232.2/232.2 kB\u001b[0m \u001b[31m5.0 MB/s\u001b[0m eta \u001b[36m0:00:00\u001b[0m\n",
            "\u001b[?25hRequirement already satisfied: requests in /usr/local/lib/python3.10/dist-packages (from telebot) (2.31.0)\n",
            "Requirement already satisfied: charset-normalizer<4,>=2 in /usr/local/lib/python3.10/dist-packages (from requests->telebot) (3.3.2)\n",
            "Requirement already satisfied: idna<4,>=2.5 in /usr/local/lib/python3.10/dist-packages (from requests->telebot) (3.6)\n",
            "Requirement already satisfied: urllib3<3,>=1.21.1 in /usr/local/lib/python3.10/dist-packages (from requests->telebot) (2.0.7)\n",
            "Requirement already satisfied: certifi>=2017.4.17 in /usr/local/lib/python3.10/dist-packages (from requests->telebot) (2024.2.2)\n",
            "Installing collected packages: pyTelegramBotAPI, telebot\n",
            "Successfully installed pyTelegramBotAPI-4.16.1 telebot-0.0.5\n"
          ]
        }
      ],
      "source": [
        "!pip install telebot\n",
        "import telebot\n",
        "import shutil\n",
        "\n",
        "\n",
        "import os\n",
        "import telebot\n",
        "from telebot import types\n",
        "BOT_TOKEN = '6347710107:AAG7TaCm1cWANlQGDn8EPHTmivzDz52vaH8'\n",
        "bot = telebot.TeleBot(BOT_TOKEN)\n",
        "output_folder=\"/content/runs/detect/predict\"\n",
        "@bot.message_handler(content_types=['photo'])\n",
        "def echo_photo(message):\n",
        "    print(\"Image Received\")\n",
        "    # Get the photo ID of the largest available photo\n",
        "    photo = message.photo[-1]\n",
        "    # Download the photo\n",
        "    photo_info = bot.get_file(photo.file_id)\n",
        "    photo_url = f\"https://api.telegram.org/file/bot{BOT_TOKEN}/{photo_info.file_path}\"\n",
        "\n",
        "    # Define the folder where images will be saved\n",
        "    save_folder = \"saved_images\"\n",
        "    try:\n",
        "        shutil.rmtree(\"/content/saved_images\")\n",
        "        shutil.rmtree(\"/content/runs/detect/predict\")\n",
        "        shutil.rmtree(\"/content/runs/detect/predict2\")\n",
        "        shutil.rmtree(\"/content/runs/detect/predict3\")\n",
        "        #print(f\"Directory '{directory_path}' and its contents have been removed.\")\n",
        "    except Exception as e:\n",
        "        print(f\"Error while removing directory: {e}\")\n",
        "\n",
        "    if not os.path.exists(save_folder):\n",
        "        os.makedirs(save_folder)\n",
        "\n",
        "    # Define the image filename\n",
        "    image_filename = f\"{message.from_user.id}_{message.message_id}.jpg\"\n",
        "    image_path = os.path.join(save_folder, image_filename)\n",
        "\n",
        "    os.system(f\"wget -O {image_path} {photo_url}\")\n",
        "    !yolo task=detect mode=predict model=/content/drive/MyDrive/PT/animals.pt conf=0.25 source='/content/saved_images' save=True\n",
        "    # Send the downloaded photo back to the user\n",
        "    final_image_path = os.path.join(\"/content/runs/detect/predict/\", image_filename)\n",
        "\n",
        "    with open(final_image_path, 'rb') as photo_file:\n",
        "        print(image_path)\n",
        "        bot.send_photo(message.chat.id, photo_file)\n",
        "\n",
        "    bot.reply_to(message, \"Image saved and sent!\")\n",
        "\n",
        "@bot.message_handler(content_types=['video'])\n",
        "def video_handler(message):\n",
        "    print(\"Video Received\")\n",
        "    # Get the video file ID\n",
        "    video = message.video\n",
        "    # Download the video\n",
        "    video_info = bot.get_file(video.file_id)\n",
        "    video_url = f\"https://api.telegram.org/file/bot{BOT_TOKEN}/{video_info.file_path}\"\n",
        "# Define the folder where images will be saved\n",
        "    save_folder = \"saved_images\"\n",
        "    try:\n",
        "        shutil.rmtree(\"/content/saved_videos\")\n",
        "        shutil.rmtree(\"/content/runs/detect/predict\")\n",
        "        shutil.rmtree(\"/content/runs/detect/predict2\")\n",
        "        shutil.rmtree(\"/content/runs/detect/predict3\")\n",
        "        #print(f\"Directory '{directory_path}' and its contents have been removed.\")\n",
        "    except Exception as e:\n",
        "        print(f\"Error while removing directory: {e}\")\n",
        "\n",
        "    if not os.path.exists(save_folder):\n",
        "        os.makedirs(save_folder)\n",
        "    # Define the folder where videos will be saved\n",
        "    save_folder = \"saved_videos\"\n",
        "    if not os.path.exists(save_folder):\n",
        "        os.makedirs(save_folder)\n",
        "\n",
        "    # Define the video filename\n",
        "    video_filename = f\"{message.from_user.id}_{message.message_id}.mp4\"\n",
        "    video_path = os.path.join(save_folder, video_filename)\n",
        "\n",
        "    os.system(f\"wget -O {video_path} {video_url}\")\n",
        "    !yolo task=detect mode=predict model=/content/drive/MyDrive/PT/animals.pt conf=0.25 source='/content/saved_videos' save=True\n",
        "    first_processed_file_path = os.path.join(output_folder, processed_files[0])\n",
        "    with open(first_processed_file_path, 'rb') as video_file:\n",
        "            bot.send_video(message.chat.id, video_file, supports_streaming=True)\n",
        "    bot.reply_to(message, \"Video processed and sent!\")\n",
        "\n",
        "@bot.message_handler(func=lambda message: True)\n",
        "def handle_text_messages(message):\n",
        "    bot.reply_to(message, \"Please send an image.\")\n",
        "\n",
        "if __name__ == \"__main__\":\n",
        "    bot.polling(none_stop=True)"
      ]
    },
    {
      "cell_type": "code",
      "execution_count": null,
      "metadata": {
        "colab": {
          "base_uri": "https://localhost:8080/"
        },
        "id": "DMK0nDHzlfBw",
        "outputId": "b36c6a86-d88b-487b-a3cd-528d5a88a11a"
      },
      "outputs": [
        {
          "output_type": "stream",
          "name": "stdout",
          "text": [
            "Mounted at /content/drive\n"
          ]
        }
      ],
      "source": [
        "from google.colab import drive\n",
        "drive.mount('/content/drive')"
      ]
    }
  ],
  "metadata": {
    "colab": {
      "provenance": [],
      "include_colab_link": true
    },
    "kernelspec": {
      "display_name": "Python 3",
      "name": "python3"
    },
    "language_info": {
      "name": "python"
    }
  },
  "nbformat": 4,
  "nbformat_minor": 0
}